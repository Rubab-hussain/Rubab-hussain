{
  "nbformat": 4,
  "nbformat_minor": 0,
  "metadata": {
    "colab": {
      "provenance": [],
      "authorship_tag": "ABX9TyP/UCBr3dnQaq9bzbkiQCEP",
      "include_colab_link": true
    },
    "kernelspec": {
      "name": "python3",
      "display_name": "Python 3"
    },
    "language_info": {
      "name": "python"
    }
  },
  "cells": [
    {
      "cell_type": "markdown",
      "metadata": {
        "id": "view-in-github",
        "colab_type": "text"
      },
      "source": [
        "<a href=\"https://colab.research.google.com/github/Rubab-hussain/Rubab-hussain/blob/main/Untitled2.ipynb\" target=\"_parent\"><img src=\"https://colab.research.google.com/assets/colab-badge.svg\" alt=\"Open In Colab\"/></a>"
      ]
    },
    {
      "cell_type": "code",
      "execution_count": null,
      "metadata": {
        "colab": {
          "base_uri": "https://localhost:8080/"
        },
        "id": "2LnbqHFL6kVk",
        "outputId": "d67743c4-572b-4771-cf46-09b4ea5da537"
      },
      "outputs": [
        {
          "output_type": "stream",
          "name": "stdout",
          "text": [
            "Collecting language-tool-python\n",
            "  Downloading language_tool_python-2.8.1-py3-none-any.whl.metadata (12 kB)\n",
            "Requirement already satisfied: pip in /usr/local/lib/python3.10/dist-packages (from language-tool-python) (24.1.2)\n",
            "Requirement already satisfied: requests in /usr/local/lib/python3.10/dist-packages (from language-tool-python) (2.32.3)\n",
            "Requirement already satisfied: tqdm in /usr/local/lib/python3.10/dist-packages (from language-tool-python) (4.67.1)\n",
            "Requirement already satisfied: wheel in /usr/local/lib/python3.10/dist-packages (from language-tool-python) (0.45.1)\n",
            "Requirement already satisfied: charset-normalizer<4,>=2 in /usr/local/lib/python3.10/dist-packages (from requests->language-tool-python) (3.4.0)\n",
            "Requirement already satisfied: idna<4,>=2.5 in /usr/local/lib/python3.10/dist-packages (from requests->language-tool-python) (3.10)\n",
            "Requirement already satisfied: urllib3<3,>=1.21.1 in /usr/local/lib/python3.10/dist-packages (from requests->language-tool-python) (2.2.3)\n",
            "Requirement already satisfied: certifi>=2017.4.17 in /usr/local/lib/python3.10/dist-packages (from requests->language-tool-python) (2024.12.14)\n",
            "Downloading language_tool_python-2.8.1-py3-none-any.whl (35 kB)\n",
            "Installing collected packages: language-tool-python\n",
            "Successfully installed language-tool-python-2.8.1\n"
          ]
        },
        {
          "output_type": "stream",
          "name": "stderr",
          "text": [
            "Downloading LanguageTool 6.4: 100%|██████████| 246M/246M [00:04<00:00, 54.2MB/s]\n",
            "INFO:language_tool_python.download_lt:Unzipping /tmp/tmpzx75npji.zip to /root/.cache/language_tool_python.\n",
            "INFO:language_tool_python.download_lt:Downloaded https://www.languagetool.org/download/LanguageTool-6.4.zip to /root/.cache/language_tool_python.\n"
          ]
        },
        {
          "output_type": "stream",
          "name": "stdout",
          "text": [
            "Original Text:\n",
            "The cat were playing with there toy in the garden when it start raining. She dont wanted to come inside becaus she was enjoying.\n",
            "\n",
            "Corrected Text:\n",
            "The cat were playing with their toy in the garden when it starts raining. She don't wanted to come inside because she was enjoying.\n",
            "\n",
            "Grammar Issues Found:\n",
            "Error: Did you mean “their”?\n",
            "Suggestion: ['their']\n",
            "\n",
            "Error: After ‘it’, use the third-person verb form “starts”.\n",
            "Suggestion: ['starts']\n",
            "\n",
            "Error: Possible spelling mistake found.\n",
            "Suggestion: [\"don't\"]\n",
            "\n",
            "Error: Possible spelling mistake found.\n",
            "Suggestion: ['because', 'beaus']\n",
            "\n"
          ]
        }
      ],
      "source": [
        "# Step 1: Install the library\n",
        "!pip install language-tool-python\n",
        "\n",
        "# Step 2: Import the library\n",
        "import language_tool_python\n",
        "\n",
        "# Step 3: Initialize the grammar checker\n",
        "tool = language_tool_python.LanguageTool('en-US')  # You can change 'en-US' to your preferred language\n",
        "\n",
        "# Step 4: Define a function to check grammar\n",
        "def check_grammar(text):\n",
        "    matches = tool.check(text)\n",
        "    corrected_text = language_tool_python.utils.correct(text, matches)\n",
        "    print(\"Original Text:\")\n",
        "    print(text)\n",
        "    print(\"\\nCorrected Text:\")\n",
        "    print(corrected_text)\n",
        "    print(\"\\nGrammar Issues Found:\")\n",
        "    for match in matches:\n",
        "        print(f\"Error: {match.message}\\nSuggestion: {match.replacements}\\n\")\n",
        "\n",
        "# Step 5: Test the function\n",
        "text = \"The cat were playing with there toy in the garden when it start raining. She dont wanted to come inside becaus she was enjoying.\"\n",
        "check_grammar(text)\n"
      ]
    },
    {
      "cell_type": "code",
      "source": [
        "# Install necessary libraries\n",
        "!pip install language-tool-python textblob\n",
        "\n",
        "# Import required libraries\n",
        "import language_tool_python\n",
        "from textblob import TextBlob\n",
        "\n",
        "# Initialize the grammar checker\n",
        "tool = language_tool_python.LanguageTool('en-US')  # Change 'en-US' for other languages\n",
        "\n",
        "# Function to check grammar\n",
        "def check_grammar(text):\n",
        "    matches = tool.check(text)\n",
        "    corrected_text = language_tool_python.utils.correct(text, matches)\n",
        "    print(\"Grammar Check:\")\n",
        "    print(\"Original Text:\", text)\n",
        "    print(\"Corrected Text:\", corrected_text)\n",
        "    print(\"\\nGrammar Issues Found:\")\n",
        "    for match in matches:\n",
        "        print(f\"- Error: {match.message}\\n  Suggestion: {match.replacements}\")\n",
        "    return corrected_text\n",
        "\n",
        "# Function to check spelling\n",
        "def check_spelling(text):\n",
        "    blob = TextBlob(text)\n",
        "    corrected_text = str(blob.correct())\n",
        "    print(\"\\nSpell Check:\")\n",
        "    print(\"Original Text:\", text)\n",
        "    print(\"Corrected Text:\", corrected_text)\n",
        "    return corrected_text\n",
        "\n",
        "# Combined Function\n",
        "def process_text(text):\n",
        "    print(\"Processing Text...\\n\")\n",
        "    text = check_grammar(text)  # Grammar check\n",
        "    check_spelling(text)        # Spell check\n",
        "\n",
        "# Test the functions with a sample text\n",
        "text = \"The cat were playing with there toy in the gardan when it start raining. She dont wanted to come inside becaus she was enjoying.\"\n",
        "process_text(text)\n",
        "\n",
        "# File Input (Optional)\n",
        "def process_file(file_path):\n",
        "    with open(file_path, 'r') as file:\n",
        "        content = file.read()\n",
        "        process_text(content)\n",
        "\n",
        "# Instructions for users\n",
        "print(\"\\nTo process a file, use: process_file('path_to_your_file.txt')\")\n"
      ],
      "metadata": {
        "colab": {
          "base_uri": "https://localhost:8080/"
        },
        "id": "AfgipnHC7h79",
        "outputId": "6e2b9cc3-74ca-4262-a598-65f859ed4a5e"
      },
      "execution_count": null,
      "outputs": [
        {
          "output_type": "stream",
          "name": "stdout",
          "text": [
            "Requirement already satisfied: language-tool-python in /usr/local/lib/python3.10/dist-packages (2.8.1)\n",
            "Requirement already satisfied: textblob in /usr/local/lib/python3.10/dist-packages (0.17.1)\n",
            "Requirement already satisfied: pip in /usr/local/lib/python3.10/dist-packages (from language-tool-python) (24.1.2)\n",
            "Requirement already satisfied: requests in /usr/local/lib/python3.10/dist-packages (from language-tool-python) (2.32.3)\n",
            "Requirement already satisfied: tqdm in /usr/local/lib/python3.10/dist-packages (from language-tool-python) (4.67.1)\n",
            "Requirement already satisfied: wheel in /usr/local/lib/python3.10/dist-packages (from language-tool-python) (0.45.1)\n",
            "Requirement already satisfied: nltk>=3.1 in /usr/local/lib/python3.10/dist-packages (from textblob) (3.9.1)\n",
            "Requirement already satisfied: click in /usr/local/lib/python3.10/dist-packages (from nltk>=3.1->textblob) (8.1.7)\n",
            "Requirement already satisfied: joblib in /usr/local/lib/python3.10/dist-packages (from nltk>=3.1->textblob) (1.4.2)\n",
            "Requirement already satisfied: regex>=2021.8.3 in /usr/local/lib/python3.10/dist-packages (from nltk>=3.1->textblob) (2024.11.6)\n",
            "Requirement already satisfied: charset-normalizer<4,>=2 in /usr/local/lib/python3.10/dist-packages (from requests->language-tool-python) (3.4.0)\n",
            "Requirement already satisfied: idna<4,>=2.5 in /usr/local/lib/python3.10/dist-packages (from requests->language-tool-python) (3.10)\n",
            "Requirement already satisfied: urllib3<3,>=1.21.1 in /usr/local/lib/python3.10/dist-packages (from requests->language-tool-python) (2.2.3)\n",
            "Requirement already satisfied: certifi>=2017.4.17 in /usr/local/lib/python3.10/dist-packages (from requests->language-tool-python) (2024.12.14)\n",
            "Processing Text...\n",
            "\n",
            "Grammar Check:\n",
            "Original Text: The cat were playing with there toy in the gardan when it start raining. She dont wanted to come inside becaus she was enjoying.\n",
            "Corrected Text: The cat were playing with their toy in the garden when it starts raining. She don't wanted to come inside because she was enjoying.\n",
            "\n",
            "Grammar Issues Found:\n",
            "- Error: Did you mean “their”?\n",
            "  Suggestion: ['their']\n",
            "- Error: Possible spelling mistake found.\n",
            "  Suggestion: ['garden', 'Cardan', 'Gardaí']\n",
            "- Error: After ‘it’, use the third-person verb form “starts”.\n",
            "  Suggestion: ['starts']\n",
            "- Error: Possible spelling mistake found.\n",
            "  Suggestion: [\"don't\"]\n",
            "- Error: Possible spelling mistake found.\n",
            "  Suggestion: ['because', 'beaus']\n",
            "\n",
            "Spell Check:\n",
            "Original Text: The cat were playing with their toy in the garden when it starts raining. She don't wanted to come inside because she was enjoying.\n",
            "Corrected Text: The cat were playing with their toy in the garden when it starts raining. The don't wanted to come inside because she was enjoying.\n",
            "\n",
            "To process a file, use: process_file('path_to_your_file.txt')\n"
          ]
        }
      ]
    }
  ]
}